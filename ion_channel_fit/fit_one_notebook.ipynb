{
 "cells": [
  {
   "cell_type": "code",
   "execution_count": 1,
   "id": "grave-mailman",
   "metadata": {},
   "outputs": [],
   "source": [
    "##IMPORT\n",
    "from fit_one_act import PINN_single\n",
    "import torch\n",
    "import numpy as np\n",
    "import pandas as pd\n",
    "from utilities import xavier_init_routine, xavier_init_routine\n",
    "import matplotlib.pyplot as plt"
   ]
  },
  {
   "cell_type": "markdown",
   "id": "matched-making",
   "metadata": {},
   "source": [
    "# Set training parameters"
   ]
  },
  {
   "cell_type": "code",
   "execution_count": 5,
   "id": "scenic-asbestos",
   "metadata": {},
   "outputs": [],
   "source": [
    "#####PARAMETERS#####\n",
    "#plotting\n",
    "PLOT = 1\n",
    "\n",
    "#Device\n",
    "DEVICE = \"cpu\"\n",
    "\n",
    "#Optimizer\n",
    "MAX_ITER_LBFGS = 50000\n",
    "LINESEARCH =  \"strong_wolfe\" #\"strong_wolfe\" or None\n",
    "\n",
    "#ION Channel properties\n",
    "E_K = torch.tensor([-96.2], dtype = torch.float64, device = DEVICE)\n",
    "G_K = torch.tensor([0.1], dtype = torch.float64, device = DEVICE)\n",
    "\n",
    "#Model\n",
    "NN_DEPTH = 10\n",
    "NN_BREADTH = 20\n",
    "\n",
    "#Training\n",
    "ADAM_IT = 1000\n",
    "WHOLE_DATA = False\n",
    "\n",
    "if ~WHOLE_DATA:\n",
    "    N_T = 2000 #Training set size\n",
    "    \n",
    "EXP_REP = 5 #repetition (activation voltage) to consider\n"
   ]
  },
  {
   "cell_type": "code",
   "execution_count": 6,
   "id": "fitted-appliance",
   "metadata": {},
   "outputs": [],
   "source": [
    "#Build layer list\n",
    "layers = [1] #nb of inputs\n",
    "for i in range(NN_DEPTH):  # nb of layers\n",
    "    layers.append(NN_BREADTH)\n",
    "layers.append(1) #output size\n",
    "\n",
    "#import  data\n",
    "#current\n",
    "PATH = './experimental_data/Kv1.2/Exp/Kv1.2_2505_rep2_Current.txt'\n",
    "data =  pd.read_csv(PATH, header=None, delim_whitespace=True)\n",
    "t = data[0]\n",
    "Ik =   data[EXP_REP] #\n",
    "\n",
    "#stim\n",
    "PATH_act = './experimental_data/Kv1.2/Exp/Kv1.2_2505_rep2_Stimulus.txt'\n",
    "v_act = pd.read_csv(PATH_act, header=None, delim_whitespace=True).to_numpy().squeeze()\n",
    "v_train = v_act[EXP_REP]\n",
    "\n",
    "\n",
    "# Domain bounds\n",
    "lb = t.min(0)\n",
    "ub = t.max(0)"
   ]
  },
  {
   "cell_type": "markdown",
   "id": "involved-moldova",
   "metadata": {},
   "source": [
    "# Train"
   ]
  },
  {
   "cell_type": "code",
   "execution_count": 7,
   "id": "healthy-airline",
   "metadata": {
    "scrolled": true,
    "tags": []
   },
   "outputs": [
    {
     "name": "stdout",
     "output_type": "stream",
     "text": [
      "It: 0, Loss: 1.603e+01\n",
      "Loss: 4.803e+00\n",
      "Loss: 8.528e+00\n",
      "Loss: 4.413e+00\n",
      "Loss: 4.052e+00\n",
      "Loss: 3.674e+00\n",
      "Loss: 3.504e+00\n",
      "Loss: 3.262e+00\n",
      "Loss: 2.022e+00\n",
      "Loss: 1.971e+00\n",
      "Loss: 1.921e+00\n",
      "Loss: 1.801e+00\n",
      "Loss: 1.754e+00\n",
      "Loss: 1.747e+00\n",
      "Loss: 1.745e+00\n",
      "Loss: 1.744e+00\n",
      "Loss: 1.734e+00\n",
      "Loss: 1.717e+00\n",
      "Loss: 1.667e+00\n",
      "Loss: 1.563e+00\n",
      "Loss: 2.086e+00\n",
      "Loss: 1.528e+00\n",
      "Loss: 1.508e+00\n",
      "Loss: 1.499e+00\n",
      "Loss: 1.497e+00\n",
      "Loss: 1.496e+00\n",
      "Loss: 1.495e+00\n",
      "Loss: 1.490e+00\n",
      "Loss: 1.480e+00\n",
      "Loss: 1.424e+00\n",
      "Loss: 1.415e+00\n",
      "Loss: 1.405e+00\n",
      "Loss: 1.393e+00\n",
      "Loss: 1.377e+00\n",
      "Loss: 1.359e+00\n",
      "Loss: 1.340e+00\n",
      "Loss: 1.342e+00\n",
      "Loss: 1.325e+00\n",
      "Loss: 1.297e+00\n",
      "Loss: 1.249e+00\n",
      "Loss: 1.263e+00\n",
      "Loss: 1.227e+00\n",
      "Loss: 1.183e+00\n",
      "Loss: 1.125e+00\n",
      "Loss: 9.954e-01\n",
      "Loss: 8.700e-01\n",
      "Loss: 1.040e+00\n",
      "Loss: 6.957e-01\n",
      "Loss: 5.894e-01\n",
      "Loss: 5.391e-01\n",
      "Loss: 4.973e-01\n",
      "Loss: 4.877e-01\n",
      "Loss: 4.565e-01\n",
      "Loss: 4.505e-01\n",
      "Loss: 4.266e-01\n",
      "Loss: 3.624e-01\n",
      "Loss: 2.899e-01\n",
      "Loss: 2.366e-01\n",
      "Loss: 2.072e-01\n",
      "Loss: 1.932e-01\n",
      "Loss: 1.863e-01\n"
     ]
    }
   ],
   "source": [
    "############ TRAINING #############\n",
    "\n",
    "if WHOLE_DATA:\n",
    "    #use all the data\n",
    "    t_train = t\n",
    "    Ik_train = Ik.to_numpy()\n",
    "\n",
    "else:\n",
    "    idx = np.arange(11)  # make sure rise is in training data\n",
    "    idx = np.concatenate((idx, np.random.choice(t.shape[0], N_T, replace=False)))\n",
    "\n",
    "    t_train = t[idx].to_numpy()\n",
    "    Ik_train = Ik[idx].to_numpy()\n",
    "    \n",
    "# Build model\n",
    "model = PINN_single(t_train, Ik_train, layers, lb, ub, v_train, device = DEVICE, max_iter_lbfgs=MAX_ITER_LBFGS)\n",
    "model.apply(xavier_init_routine)  # initialize nn\n",
    "\n",
    "# TRAIN\n",
    "model.train(ADAM_IT)"
   ]
  },
  {
   "cell_type": "markdown",
   "id": "concerned-uruguay",
   "metadata": {},
   "source": [
    "# Plot results\n"
   ]
  },
  {
   "cell_type": "code",
   "execution_count": 52,
   "id": "brazilian-energy",
   "metadata": {},
   "outputs": [],
   "source": [
    "t = np.arange(0,499.5,0.1)"
   ]
  },
  {
   "cell_type": "code",
   "execution_count": 10,
   "id": "distinguished-parking",
   "metadata": {},
   "outputs": [],
   "source": [
    "def lighten_color(color, amount=0.5):\n",
    "    \"\"\"\n",
    "    Lightens the given color by multiplying (1-luminosity) by the given amount.\n",
    "    Input can be matplotlib color string, hex string, or RGB tuple. \"\"\"\n",
    "\n",
    "    import matplotlib.colors as mc\n",
    "    import colorsys\n",
    "    try:\n",
    "        c = mc.cnames[color]\n",
    "    except:\n",
    "        c = color\n",
    "    c = colorsys.rgb_to_hls(*mc.to_rgb(c))\n",
    "    return colorsys.hls_to_rgb(c[0], 1 - amount * (1 - c[1]), c[2])\n",
    "\n",
    "def func(p, t, p_inf, p_tau):\n",
    "    \"\"\"ode function\"\"\"\n",
    "    dp = (p_inf - p) / p_tau\n",
    "    return dp\n"
   ]
  },
  {
   "cell_type": "code",
   "execution_count": 11,
   "id": "posted-threat",
   "metadata": {},
   "outputs": [
    {
     "data": {
      "image/png": "[encoded data removed]",
      "text/plain": [
       "<Figure size 432x288 with 1 Axes>"
      ]
     },
     "metadata": {
      "needs_background": "light"
     },
     "output_type": "display_data"
    }
   ],
   "source": [
    "i_pred = model.predict(np.squeeze(t))\n",
    "i_pred = ((i_pred + 1)*(model.I.max().cpu().detach().numpy() - model.I.min().cpu().detach().numpy())/2+model.I.min().cpu().detach().numpy())\n",
    "\n",
    "plt.title(\"i-net prediction\")\n",
    "plt.plot(Ik, label = \"data\",  color=lighten_color('b', 0.4))\n",
    "\n",
    "plt.xlabel(\"time [ms]\")\n",
    "plt.ylabel(r\"I/$I_{max}$\")\n",
    "plt.plot(np.squeeze(i_pred), 'r', label = \"prediction\", linewidth = 2.0)\n",
    "plt.legend()\n",
    "plt.savefig(\"plots/net_pred_exp_data.svg\")\n",
    "\n",
    "plt.show()"
   ]
  },
  {
   "cell_type": "code",
   "execution_count": 14,
   "id": "registered-plasma",
   "metadata": {},
   "outputs": [
    {
     "data": {
      "image/png": "[encoded data removed]",
      "text/plain": [
       "<Figure size 432x288 with 1 Axes>"
      ]
     },
     "metadata": {
      "needs_background": "light"
     },
     "output_type": "display_data"
    }
   ],
   "source": [
    "from scipy.integrate import odeint\n",
    "\n",
    "t = np.arange(0,499.5,0.1)\n",
    "m_reg = odeint(func, 0, t, args = (model.m_inf.cpu().detach().numpy(), model.m_tau.cpu().detach().numpy()*5))\n",
    "h_reg = odeint(func, 1, t, args = (model.h_inf.cpu().detach().numpy(), model.h_tau.cpu().detach().numpy()*500))\n",
    "I_reg =  0.1*m_reg*m_reg*h_reg*(v_act[EXP_REP] - (-96.2))\n",
    "\n",
    "plt.title(r\"Model prediction\")\n",
    "plt.plot(t, Ik, color=lighten_color('b', 0.4), label = \"data\")\n",
    "plt.plot(t, np.squeeze(i_pred), 'r', label = \"i-net prediction\", linewidth = 2.0)\n",
    "plt.plot(t, np.squeeze(I_reg), 'k', label = \"discovered equation\", linewidth = 2.0)\n",
    "plt.legend()\n",
    "plt.ylabel(r\"I/$I_{max}$\")\n",
    "plt.xlabel(\"time [ms]\")\n",
    "           \n",
    "plt.savefig(\"plots/pred_surrogate_noise10.svg\")"
   ]
  },
  {
   "cell_type": "markdown",
   "id": "medium-depression",
   "metadata": {},
   "source": [
    "# MSEs"
   ]
  },
  {
   "cell_type": "code",
   "execution_count": 15,
   "id": "directed-spanish",
   "metadata": {},
   "outputs": [
    {
     "data": {
      "text/plain": [
       "tensor(1.2711e-05)"
      ]
     },
     "execution_count": 15,
     "metadata": {},
     "output_type": "execute_result"
    }
   ],
   "source": [
    "from torch import nn\n",
    "loss = nn.MSELoss()\n",
    "netMSE = loss(torch.Tensor(np.squeeze(i_pred)), torch.Tensor(Ik.to_numpy()))\n",
    "netMSE"
   ]
  },
  {
   "cell_type": "code",
   "execution_count": 16,
   "id": "threatened-rendering",
   "metadata": {},
   "outputs": [
    {
     "data": {
      "text/plain": [
       "tensor(3.1063e-05)"
      ]
     },
     "execution_count": 16,
     "metadata": {},
     "output_type": "execute_result"
    }
   ],
   "source": [
    "eqMSE = loss(torch.Tensor(I_reg.squeeze()), torch.Tensor(Ik.to_numpy().squeeze()))\n",
    "eqMSE"
   ]
  }
 ],
 "metadata": {
  "kernelspec": {
   "display_name": "Python 3",
   "language": "python",
   "name": "python3"
  },
  "language_info": {
   "codemirror_mode": {
    "name": "ipython",
    "version": 3
   },
   "file_extension": ".py",
   "mimetype": "text/x-python",
   "name": "python",
   "nbconvert_exporter": "python",
   "pygments_lexer": "ipython3",
   "version": "3.9.4"
  }
 },
 "nbformat": 4,
 "nbformat_minor": 5
}
