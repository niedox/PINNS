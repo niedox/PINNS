{
 "cells": [
  {
   "cell_type": "code",
   "execution_count": 1,
   "id": "prompt-providence",
   "metadata": {},
   "outputs": [],
   "source": [
    "##IMPORT\n",
    "from fit_one_act import PINN_single\n",
    "import torch\n",
    "import numpy as np\n",
    "import pandas as pd\n",
    "from utilities import xavier_init_routine, xavier_init_routine\n",
    "import matplotlib.pyplot as plt\n",
    "import matplotlib.colors as mc\n",
    "import colorsys\n",
    "from scipy.integrate import odeint\n",
    "from torch import nn "
   ]
  },
  {
   "cell_type": "markdown",
   "id": "external-quantity",
   "metadata": {},
   "source": [
    "# Training parameters"
   ]
  },
  {
   "cell_type": "code",
   "execution_count": 3,
   "id": "cloudy-basket",
   "metadata": {},
   "outputs": [
    {
     "name": "stdout",
     "output_type": "stream",
     "text": [
      "Keys: <KeysViewHDF5 ['acquisition', 'analysis', 'checksums', 'epochs', 'file_create_date', 'general', 'identifier', 'nwb_version', 'processing', 'session_description', 'session_start_time', 'stimulus']>\n"
     ]
    }
   ],
   "source": [
    "#IMPORT H5PY data\n",
    "import h5py\n",
    "\n",
    "#import data\n",
    "filename = './experimental_data/rCell2505.nwb'\n",
    "with h5py.File(filename, \"r\") as f:\n",
    "    # List all groups\n",
    "    print(\"Keys: %s\" % f.keys())\n",
    "    a_group_key = list(f.keys())[0]\n",
    "\n",
    "    # Get the data\n",
    "\n",
    "    data = list(f[a_group_key])\n",
    "    \n",
    "f = h5py.File(filename, \"r\")\n",
    "data = list(f['acquisition']['timeseries']['Activation']['repetitions']['repetition1']['data'])\n",
    "data2 =  list(f['acquisition']['timeseries']['Activation']['repetitions']['repetition2']['data'])\n",
    "data3 =  list(f['acquisition']['timeseries']['Activation']['repetitions']['repetition3']['data'])\n",
    "\n",
    "#convert to array\n",
    "arr = np.asarray(data)\n",
    "arr2 = np.asarray(data2)\n",
    "arr3 = np.asarray(data3)\n",
    "current =  arr[1000:5995].squeeze()\n",
    "current2 =  arr2[1000:5995].squeeze()\n",
    "current3 =  arr3[1000:5995].squeeze()\n",
    "\n",
    "#normalize\n",
    "current =  current/current.max()\n",
    "current2 =   current2/current2.max()\n",
    "current3 =   current3/current3.max()\n",
    "\n",
    "\n",
    "#select voltages betwwen -40 and +50 mV\n",
    "v_act = np.arange(-90, 90, 10)\n",
    "idx = np.where((v_act >= -40) & (v_act <= 50))\n",
    "v = v_act[idx]\n",
    "current =  current[:, idx].squeeze()\n",
    "current2 =  current2[:, idx].squeeze()\n",
    "current3 =  current3[:, idx].squeeze()\n"
   ]
  },
  {
   "cell_type": "code",
   "execution_count": 4,
   "id": "developed-accuracy",
   "metadata": {},
   "outputs": [],
   "source": [
    "#####PARAMETERS#####\n",
    "#plotting\n",
    "PLOT = 1\n",
    "\n",
    "#Optimizer\n",
    "MAX_ITER_LBFGS = 50000\n",
    "LINESEARCH =  \"strong_wolfe\" #\"strong_wolfe\" or None\n",
    "\n",
    "#Model\n",
    "NN_DEPTH = 10\n",
    "NN_BREADTH = 20\n",
    "\n",
    "#Training\n",
    "ADAM_IT = 5000\n",
    "WHOLE_DATA = False\n",
    "DEVICE = \"cuda\"\n",
    "\n",
    "if ~WHOLE_DATA:\n",
    "    N_T = 4000 #Training set size\n",
    "\n",
    "    \n",
    "#ION Channel properties\n",
    "E_K = torch.tensor([-96.2], dtype = torch.float64, device = DEVICE)\n",
    "G_K = torch.tensor([0.1], dtype = torch.float64, device = DEVICE)\n",
    "\n",
    "EXP_REP = 5+1 #repetition (activation voltage) to consider\n"
   ]
  },
  {
   "cell_type": "code",
   "execution_count": 5,
   "id": "ordinary-lancaster",
   "metadata": {},
   "outputs": [],
   "source": [
    "#Build layer list\n",
    "layers = [1] #nb of inputs\n",
    "for i in range(NN_DEPTH):  # nb of layers\n",
    "    layers.append(NN_BREADTH)\n",
    "layers.append(1) #output size\n",
    "\n",
    "#import  data\n",
    "PATH = './experimental_data/Kv1.2/Exp/Kv1.2_2505_rep2_Current.txt'\n",
    "data =  pd.read_csv(PATH, header=None, delim_whitespace=True)\n",
    "t = np.concatenate((data[0], data[0], data[0]))\n",
    "\n",
    "\n",
    "Ik =  np.concatenate((current[:, EXP_REP], current2[:, EXP_REP],  current3[:, EXP_REP])) #data[EXP_REP] # pd.read_csv(\"surrogate_noise5.csv\", header=None)[EXP_REP] #\n",
    "\n",
    "\n",
    "PATH_act = './experimental_data/Kv1.2/Exp/Kv1.2_2505_rep2_Stimulus.txt'\n",
    "v_act = pd.read_csv(PATH_act, header=None, delim_whitespace=True).to_numpy().squeeze()\n",
    "v_train = v_act[EXP_REP]\n",
    "\n",
    "\n",
    "lb = t.min(0)\n",
    "ub = t.max(0)"
   ]
  },
  {
   "cell_type": "markdown",
   "id": "golden-answer",
   "metadata": {},
   "source": [
    "# Training"
   ]
  },
  {
   "cell_type": "code",
   "execution_count": 6,
   "id": "moderate-tract",
   "metadata": {
    "scrolled": true,
    "tags": []
   },
   "outputs": [
    {
     "name": "stdout",
     "output_type": "stream",
     "text": [
      "It: 0, Loss: 1.236e+01\n",
      "Loss: 7.014e+00\n",
      "Loss: 5.014e+00\n",
      "Loss: 3.576e+00\n",
      "Loss: 1.574e+01\n",
      "Loss: 2.358e+00\n",
      "Loss: 1.915e+00\n"
     ]
    }
   ],
   "source": [
    "############ TRAINING #############\n",
    "\n",
    "if WHOLE_DATA:\n",
    "    #use all the data\n",
    "    t_train = t\n",
    "    Ik_train = Ik.to_numpy()\n",
    "\n",
    "else:\n",
    "    idx = np.arange(11)  # make sure rise is in training data\n",
    "    idx = np.concatenate((idx, np.random.choice(t.shape[0], N_T, replace=False)))\n",
    "\n",
    "    t_train = t[idx]#.to_numpy()\n",
    "    Ik_train = Ik[idx]#.to_numpy()\n",
    "    \n",
    "# Build model\n",
    "model = PINN_single(t_train, Ik_train, layers, lb, ub, v_train, device= DEVICE, max_iter_lbfgs=MAX_ITER_LBFGS)\n",
    "model.apply(xavier_init_routine)  # initialize nn\n",
    "\n",
    "# TRAIN\n",
    "model.train(ADAM_IT)"
   ]
  },
  {
   "cell_type": "markdown",
   "id": "based-meeting",
   "metadata": {},
   "source": [
    "# Plot results"
   ]
  },
  {
   "cell_type": "code",
   "execution_count": 22,
   "id": "boolean-tutorial",
   "metadata": {},
   "outputs": [],
   "source": [
    "#Functions\n",
    "def lighten_color(color, amount=0.5):\n",
    "    \"\"\"\n",
    "    Lightens the given color by multiplying (1-luminosity) by the given amount.\n",
    "    Input can be matplotlib color string, hex string, or RGB tuple.\n",
    "\n",
    "    \"\"\"\n",
    "\n",
    "    try:\n",
    "        c = mc.cnames[color]\n",
    "    except:\n",
    "        c = color\n",
    "    c = colorsys.rgb_to_hls(*mc.to_rgb(c))\n",
    "    return colorsys.hls_to_rgb(c[0], 1 - amount * (1 - c[1]), c[2])\n",
    "\n",
    "def sig2(v):\n",
    "    \"\"\"computes sigmoid function for m_tau\"\"\"\n",
    "    vBreak = -79.1345\n",
    "    offset1 = 0.27482\n",
    "    amp1 =  38.4251\n",
    "    vh1 = -53.4992\n",
    "    slope1 = 5.0003\n",
    "    offset2 = 0.54781\n",
    "    amp2 = 5.6426\n",
    "    vh2 = -18.1111\n",
    "    slope2 = 12.5306\n",
    "    \n",
    "    sigswitch = 1/(1+np.exp((v-vBreak)/3.0))\n",
    "    sig2 = (sigswitch*(offset1+(amp1)/(1+np.exp((v-vh1)/-slope1)))) + ((1-sigswitch)*offset2+(amp2-offset2)/(1+np.exp((v-vh2)/slope2)))\n",
    "\t\n",
    "    return sig2\n",
    "\n",
    "def func(p, t, p_inf, p_tau):\n",
    "    \"\"\"ode function\"\"\"\n",
    "    dp = (p_inf - p) / p_tau\n",
    "    return dp\n",
    "\n"
   ]
  },
  {
   "cell_type": "code",
   "execution_count": 21,
   "id": "veterinary-testimony",
   "metadata": {},
   "outputs": [
    {
     "data": {
      "image/png": "[encoded data removed]",
      "text/plain": [
       "<Figure size 432x288 with 1 Axes>"
      ]
     },
     "metadata": {
      "needs_background": "light"
     },
     "output_type": "display_data"
    }
   ],
   "source": [
    "#i-net predictions\n",
    "t = np.arange(0, 499, 0.1)\n",
    "i_pred = model.predict(np.squeeze(t))\n",
    "i_pred = ((i_pred + 1)*(model.I.max().cpu().detach().numpy() - model.I.min().cpu().detach().numpy())/2+model.I.min().cpu().detach().numpy())\n",
    "plt.title(\"i-net prediction\")\n",
    "\n",
    "plt.plot(current[:4990, EXP_REP], label = \" data\",  color=lighten_color('b', 0.4))\n",
    "plt.plot(current2[:4990, EXP_REP],  color=lighten_color('b', 0.4))\n",
    "plt.plot(current3[:4990, EXP_REP], color=lighten_color('b', 0.4))\n",
    "\n",
    "\n",
    "plt.xlabel(\"time [ms]\")\n",
    "plt.ylabel(r\"I/$I_{max}$\")\n",
    "plt.plot(np.squeeze(i_pred), 'r', label = \"prediction\", linewidth = 3.0)\n",
    "plt.legend()\n",
    "plt.savefig(\"plots/net_pred_all.svg\")\n",
    "\n",
    "plt.show()"
   ]
  },
  {
   "cell_type": "code",
   "execution_count": 25,
   "id": "engaged-teacher",
   "metadata": {},
   "outputs": [
    {
     "data": {
      "image/png": "[encoded data removed]",
      "text/plain": [
       "<Figure size 432x288 with 1 Axes>"
      ]
     },
     "metadata": {
      "needs_background": "light"
     },
     "output_type": "display_data"
    }
   ],
   "source": [
    "t = np.arange(0,499,0.1)\n",
    "\n",
    "plt.title(r\"Discovered Equation\")\n",
    "m_reg = odeint(func, 0, t, args = (model.m_inf.cpu().detach().numpy(), model.m_tau.cpu().detach().numpy()*5))\n",
    "h_reg = odeint(func, 1, t, args = (model.h_inf.cpu().detach().numpy(), model.h_tau.cpu().detach().numpy()*500))\n",
    "I_reg =  0.1*m_reg*m_reg*h_reg*(v_act[EXP_REP] - (-96.2))\n",
    "#plt.plot(t, Ik, color=lighten_color('b', 0.4), label = \"data\")\n",
    "plt.plot(t, current[:4990, EXP_REP], label = \"data\",  color=lighten_color('b', 0.4))\n",
    "plt.plot(t, current2[:4990, EXP_REP],   color=lighten_color('b', 0.4))\n",
    "plt.plot(t, current3[:4990, EXP_REP], color=lighten_color('b', 0.4))\n",
    "plt.plot(t, I_reg, 'k', label = 'discovered equation', linewidth=3.0)\n",
    "\n",
    "plt.legend()\n",
    "plt.ylabel(r\"I/$I_{max}$\")\n",
    "plt.xlabel(\"time [ms]\")\n",
    "           \n",
    "plt.savefig(\"plots/eq_pred_all.svg\")\n"
   ]
  },
  {
   "cell_type": "markdown",
   "id": "shared-olympus",
   "metadata": {},
   "source": [
    "# MSEs"
   ]
  },
  {
   "cell_type": "code",
   "execution_count": 28,
   "id": "magnetic-notion",
   "metadata": {},
   "outputs": [
    {
     "name": "stdout",
     "output_type": "stream",
     "text": [
      "0.0006753945\n"
     ]
    }
   ],
   "source": [
    "loss = nn.MSELoss()\n",
    "i_pred = np.squeeze(i_pred)\n",
    "netMSE = loss(torch.Tensor(np.concatenate((i_pred[:4990], i_pred[:4990], i_pred[:4990]))), torch.Tensor(np.concatenate((current[:4990, EXP_REP],  current[:4990, EXP_REP], current[:4990, EXP_REP])))) #loss(torch.Tensor(np.squeeze(i_pred)), torch.Tensor(Ik.to_numpy))\n",
    "print('%.10f' %netMSE)"
   ]
  },
  {
   "cell_type": "code",
   "execution_count": 29,
   "id": "stunning-strengthening",
   "metadata": {},
   "outputs": [
    {
     "name": "stdout",
     "output_type": "stream",
     "text": [
      "0.0160327841\n"
     ]
    }
   ],
   "source": [
    "eqMSE =loss(torch.tensor(np.concatenate((I_reg, I_reg, I_reg)).squeeze(), dtype = torch.float64), torch.tensor(np.concatenate((current[:4990, EXP_REP],  current[:4990, EXP_REP], current[:4990, EXP_REP])), dtype = torch.float64))\n",
    "print('%.10f' %eqMSE)"
   ]
  }
 ],
 "metadata": {
  "kernelspec": {
   "display_name": "Python 3",
   "language": "python",
   "name": "python3"
  },
  "language_info": {
   "codemirror_mode": {
    "name": "ipython",
    "version": 3
   },
   "file_extension": ".py",
   "mimetype": "text/x-python",
   "name": "python",
   "nbconvert_exporter": "python",
   "pygments_lexer": "ipython3",
   "version": "3.9.4"
  }
 },
 "nbformat": 4,
 "nbformat_minor": 5
}
